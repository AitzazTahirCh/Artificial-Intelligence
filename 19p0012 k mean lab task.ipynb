{
 "cells": [
  {
   "cell_type": "code",
   "execution_count": 1,
   "id": "9b0698f2",
   "metadata": {},
   "outputs": [],
   "source": [
    "import pandas as pd\n",
    "import numpy as np\n",
    "from collections import Counter"
   ]
  },
  {
   "cell_type": "code",
   "execution_count": 2,
   "id": "78728324",
   "metadata": {},
   "outputs": [],
   "source": [
    "np.random.seed(16)"
   ]
  },
  {
   "cell_type": "code",
   "execution_count": 3,
   "id": "cc875e77",
   "metadata": {},
   "outputs": [],
   "source": [
    "def euclidian_distance(query,X):\n",
    "        difference = np.array(X) - np.array(query)\n",
    "        sqrd_diff = np.square(difference)\n",
    "        sum_sqrd_diff = np.sum(sqrd_diff, axis = 1)\n",
    "        distance = np.sqrt(sum_sqrd_diff)\n",
    "        return distance"
   ]
  },
  {
   "cell_type": "code",
   "execution_count": 4,
   "id": "faa4285d",
   "metadata": {},
   "outputs": [
    {
     "data": {
      "text/plain": [
       "array([[1.92e+02, 8.40e+00, 7.30e+00, 5.50e-01],\n",
       "       [1.80e+02, 8.00e+00, 6.80e+00, 5.90e-01],\n",
       "       [1.76e+02, 7.40e+00, 7.20e+00, 6.00e-01],\n",
       "       [8.60e+01, 6.20e+00, 4.70e+00, 8.00e-01],\n",
       "       [8.40e+01, 6.00e+00, 4.60e+00, 7.90e-01],\n",
       "       [8.00e+01, 5.80e+00, 4.30e+00, 7.70e-01],\n",
       "       [8.00e+01, 5.90e+00, 4.30e+00, 8.10e-01],\n",
       "       [7.60e+01, 5.80e+00, 4.00e+00, 8.10e-01],\n",
       "       [1.78e+02, 7.10e+00, 7.80e+00, 9.20e-01],\n",
       "       [1.72e+02, 7.40e+00, 7.00e+00, 8.90e-01],\n",
       "       [1.66e+02, 6.90e+00, 7.30e+00, 9.30e-01],\n",
       "       [1.72e+02, 7.10e+00, 7.60e+00, 9.20e-01],\n",
       "       [1.54e+02, 7.00e+00, 7.10e+00, 8.80e-01],\n",
       "       [1.64e+02, 7.30e+00, 7.70e+00, 7.00e-01],\n",
       "       [1.52e+02, 7.60e+00, 7.30e+00, 6.90e-01],\n",
       "       [1.56e+02, 7.70e+00, 7.10e+00, 6.90e-01],\n",
       "       [1.00e+03, 7.60e+00, 7.50e+00, 6.70e-01],\n",
       "       [1.68e+02, 7.50e+00, 7.60e+00, 7.30e-01],\n",
       "       [1.62e+02, 7.50e+00, 7.10e+00, 8.30e-01],\n",
       "       [1.62e+02, 7.40e+00, 7.20e+00, 8.50e-01],\n",
       "       [1.60e+02, 7.50e+00, 7.50e+00, 8.60e-01],\n",
       "       [1.56e+02, 7.40e+00, 7.40e+00, 8.40e-01],\n",
       "       [1.40e+02, 7.30e+00, 7.10e+00, 8.70e-01],\n",
       "       [1.70e+02, 7.60e+00, 7.90e+00, 8.80e-01],\n",
       "       [3.42e+02, 9.00e+00, 9.40e+00, 7.50e-01],\n",
       "       [3.56e+02, 9.20e+00, 9.20e+00, 7.50e-01],\n",
       "       [3.62e+02, 9.60e+00, 9.20e+00, 7.40e-01],\n",
       "       [2.04e+02, 7.50e+00, 9.20e+00, 7.70e-01],\n",
       "       [1.40e+02, 6.70e+00, 7.10e+00, 7.20e-01],\n",
       "       [1.60e+02, 7.00e+00, 7.40e+00, 8.10e-01],\n",
       "       [1.58e+02, 7.10e+00, 7.50e+00, 7.90e-01],\n",
       "       [2.10e+02, 7.80e+00, 8.00e+00, 8.20e-01],\n",
       "       [1.64e+02, 7.20e+00, 7.00e+00, 8.00e-01],\n",
       "       [1.90e+02, 7.50e+00, 8.10e+00, 7.40e-01],\n",
       "       [1.42e+02, 7.60e+00, 7.80e+00, 7.50e-01],\n",
       "       [1.50e+02, 7.10e+00, 7.90e+00, 7.50e-01],\n",
       "       [1.60e+02, 7.10e+00, 7.60e+00, 7.60e-01],\n",
       "       [1.54e+02, 7.30e+00, 7.30e+00, 7.90e-01],\n",
       "       [1.58e+02, 7.20e+00, 7.80e+00, 7.70e-01],\n",
       "       [1.54e+02, 7.30e+00, 7.50e+00, 7.60e-01],\n",
       "       [3.00e+04, 7.10e+00, 7.50e+00, 7.80e-01],\n",
       "       [1.80e+02, 7.60e+00, 8.20e+00, 7.90e-01],\n",
       "       [1.54e+02, 7.20e+00, 7.20e+00, 8.20e-01],\n",
       "       [1.94e+02, 7.20e+00, 1.03e+01, 7.00e-01],\n",
       "       [2.00e+02, 7.30e+00, 1.05e+01, 7.20e-01],\n",
       "       [1.86e+02, 7.20e+00, 9.20e+00, 7.20e-01],\n",
       "       [2.16e+02, 7.30e+00, 1.02e+01, 7.10e-01],\n",
       "       [1.96e+02, 7.30e+00, 9.70e+00, 7.20e-01],\n",
       "       [1.74e+02, 7.30e+00, 1.01e+01, 7.20e-01],\n",
       "       [1.32e+02, 5.80e+00, 8.70e+00, 7.30e-01],\n",
       "       [1.30e+02, 6.00e+00, 8.20e+00, 7.10e-01],\n",
       "       [1.16e+02, 6.00e+00, 7.50e+00, 7.20e-01],\n",
       "       [1.18e+02, 5.90e+00, 8.00e+00, 7.20e-01],\n",
       "       [1.20e+02, 6.00e+00, 8.40e+00, 7.40e-01],\n",
       "       [1.16e+02, 6.10e+00, 8.50e+00, 7.10e-01],\n",
       "       [1.16e+02, 6.30e+00, 7.70e+00, 7.20e-01],\n",
       "       [1.16e+02, 5.90e+00, 8.10e+00, 7.30e-01],\n",
       "       [1.52e+02, 6.50e+00, 8.50e+00, 7.20e-01],\n",
       "       [1.18e+02, 6.10e+00, 8.10e+00, 7.00e-01]])"
      ]
     },
     "execution_count": 4,
     "metadata": {},
     "output_type": "execute_result"
    }
   ],
   "source": [
    "df = pd.read_csv(\"fruit_data_with_colors.txt\",delimiter = \"\\t\")\n",
    "df = df.drop(['fruit_label', 'fruit_subtype', 'fruit_name'], axis=1)\n",
    "X = np.array(df)\n",
    "X"
   ]
  },
  {
   "cell_type": "code",
   "execution_count": 5,
   "id": "6ef66ff1",
   "metadata": {},
   "outputs": [],
   "source": [
    "K = 4"
   ]
  },
  {
   "cell_type": "code",
   "execution_count": 6,
   "id": "cdc64421",
   "metadata": {},
   "outputs": [],
   "source": [
    "centroidIndex = np.random.randint(0,58,(K,))\n",
    "centroids = X[centroidIndex]"
   ]
  },
  {
   "cell_type": "code",
   "execution_count": 7,
   "id": "8a10057f",
   "metadata": {},
   "outputs": [
    {
     "name": "stdout",
     "output_type": "stream",
     "text": [
      "[41 46 57  5]\n"
     ]
    }
   ],
   "source": [
    "print(centroidIndex)"
   ]
  },
  {
   "cell_type": "code",
   "execution_count": 8,
   "id": "37555423",
   "metadata": {},
   "outputs": [
    {
     "name": "stdout",
     "output_type": "stream",
     "text": [
      "[[180.     7.6    8.2    0.79]\n",
      " [216.     7.3   10.2    0.71]\n",
      " [152.     6.5    8.5    0.72]\n",
      " [ 80.     5.8    4.3    0.77]]\n"
     ]
    }
   ],
   "source": [
    "print(centroids)"
   ]
  },
  {
   "cell_type": "code",
   "execution_count": 9,
   "id": "d4429c22",
   "metadata": {},
   "outputs": [],
   "source": [
    "X_ = np.delete(X,centroidIndex, axis = 0)\n",
    "\n",
    "clusters = [[],[],[],[]]\n",
    "clusters[0].append(centroids[0])\n",
    "clusters[1].append(centroids[1])\n",
    "clusters[2].append(centroids[2])\n",
    "clusters[3].append(centroids[3])"
   ]
  },
  {
   "cell_type": "code",
   "execution_count": 10,
   "id": "4b236629",
   "metadata": {},
   "outputs": [
    {
     "name": "stdout",
     "output_type": "stream",
     "text": [
      "iteration: 1\n",
      "[179.6          7.43333333   8.14         0.76      ]\n",
      "[3.65444444e+03 8.04444444e+00 8.96666667e+00 7.45555556e-01]\n",
      "[144.46666667   6.87         7.64333333   0.76433333]\n",
      "[81.2    5.94   4.38   0.796]\n",
      "\n",
      "iteration: 2\n",
      "[236.48     7.652    8.4      0.7532]\n",
      "[3.0e+04 7.1e+00 7.5e+00 7.8e-01]\n",
      "[143.07142857   6.84285714   7.66428571   0.76535714]\n",
      "[81.2    5.94   4.38   0.796]\n",
      "\n",
      "iteration: 3\n",
      "[305.16666667   7.975        9.05         0.72      ]\n",
      "[3.0e+04 7.1e+00 7.5e+00 7.8e-01]\n",
      "[152.58536585   7.00487805   7.70731707   0.77121951]\n",
      "[81.2    5.94   4.38   0.796]\n",
      "\n",
      "iteration: 4\n",
      "[515.       8.85     8.825    0.7275]\n",
      "[3.0e+04 7.1e+00 7.5e+00 7.8e-01]\n",
      "[164.31111111   7.18222222   7.94444444   0.766     ]\n",
      "[96.66666667  6.          5.96666667  0.76222222]\n",
      "\n",
      "iteration: 5\n",
      "[515.       8.85     8.825    0.7275]\n",
      "[3.0e+04 7.1e+00 7.5e+00 7.8e-01]\n",
      "[168.48780488   7.29756098   7.92195122   0.77073171]\n",
      "[104.30769231   6.           6.64615385   0.74846154]\n",
      "\n",
      "iteration: 6\n",
      "[515.       8.85     8.825    0.7275]\n",
      "[3.0e+04 7.1e+00 7.5e+00 7.8e-01]\n",
      "[169.4       7.335     7.9025    0.77175]\n",
      "[106.28571429   5.98571429   6.79285714   0.74714286]\n",
      "\n",
      "iteration: 7\n",
      "[572.66666667   8.8          8.63333333   0.72      ]\n",
      "[3.0e+04 7.1e+00 7.5e+00 7.8e-01]\n",
      "[173.6097561    7.37560976   7.93902439   0.77121951]\n",
      "[106.28571429   5.98571429   6.79285714   0.74714286]\n",
      "\n",
      "iteration: 8\n",
      "[1.0e+03 7.6e+00 7.5e+00 6.7e-01]\n",
      "[3.0e+04 7.1e+00 7.5e+00 7.8e-01]\n",
      "[182.23255814   7.46976744   7.99767442   0.77      ]\n",
      "[106.28571429   5.98571429   6.79285714   0.74714286]\n",
      "\n",
      "iteration: 9\n",
      "[1.0e+03 7.6e+00 7.5e+00 6.7e-01]\n",
      "[3.0e+04 7.1e+00 7.5e+00 7.8e-01]\n",
      "[185.35      7.49      8.0475    0.76925]\n",
      "[112.35294118   6.2          6.88823529   0.75294118]\n",
      "\n",
      "iteration: 10\n",
      "[1.0e+03 7.6e+00 7.5e+00 6.7e-01]\n",
      "[3.0e+04 7.1e+00 7.5e+00 7.8e-01]\n",
      "[185.35      7.49      8.0475    0.76925]\n",
      "[112.35294118   6.2          6.88823529   0.75294118]\n",
      "\n"
     ]
    }
   ],
   "source": [
    "for i in range(10):\n",
    "    print('iteration:',i+1, end = '\\n')\n",
    "    clusters = [[],[],[],[]]\n",
    "\n",
    "    for x in X:\n",
    "        id = np.argmin(euclidian_distance(x,centroids))\n",
    "        clusters[id].append(x)\n",
    "\n",
    "    c = np.array(clusters, dtype = object)\n",
    "\n",
    "    for x in range(4):\n",
    "        centroids[x] = np.mean(c[x], axis = 0)\n",
    "        print(centroids[x])\n",
    "\n",
    "    print()"
   ]
  },
  {
   "cell_type": "code",
   "execution_count": null,
   "id": "7593ab3a",
   "metadata": {},
   "outputs": [],
   "source": []
  }
 ],
 "metadata": {
  "kernelspec": {
   "display_name": "Python 3 (ipykernel)",
   "language": "python",
   "name": "python3"
  },
  "language_info": {
   "codemirror_mode": {
    "name": "ipython",
    "version": 3
   },
   "file_extension": ".py",
   "mimetype": "text/x-python",
   "name": "python",
   "nbconvert_exporter": "python",
   "pygments_lexer": "ipython3",
   "version": "3.9.6"
  }
 },
 "nbformat": 4,
 "nbformat_minor": 5
}
