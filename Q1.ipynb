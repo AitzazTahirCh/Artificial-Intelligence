{
 "cells": [
  {
   "cell_type": "code",
   "execution_count": 1,
   "id": "bdc5f141",
   "metadata": {},
   "outputs": [],
   "source": [
    "import pandas as pd\n",
    "import numpy as np"
   ]
  },
  {
   "cell_type": "code",
   "execution_count": 2,
   "id": "14fcde01",
   "metadata": {},
   "outputs": [],
   "source": [
    "# Q1"
   ]
  },
  {
   "cell_type": "code",
   "execution_count": 3,
   "id": "62d1b1f6",
   "metadata": {},
   "outputs": [],
   "source": [
    "df = pd.DataFrame(np.array([[0,0,0],[0,1,1],[1,0,1],[1,1,0]]), columns=['x1','x2','label'])"
   ]
  },
  {
   "cell_type": "code",
   "execution_count": 4,
   "id": "73fcf166",
   "metadata": {},
   "outputs": [
    {
     "data": {
      "text/html": [
       "<div>\n",
       "<style scoped>\n",
       "    .dataframe tbody tr th:only-of-type {\n",
       "        vertical-align: middle;\n",
       "    }\n",
       "\n",
       "    .dataframe tbody tr th {\n",
       "        vertical-align: top;\n",
       "    }\n",
       "\n",
       "    .dataframe thead th {\n",
       "        text-align: right;\n",
       "    }\n",
       "</style>\n",
       "<table border=\"1\" class=\"dataframe\">\n",
       "  <thead>\n",
       "    <tr style=\"text-align: right;\">\n",
       "      <th></th>\n",
       "      <th>x1</th>\n",
       "      <th>x2</th>\n",
       "      <th>label</th>\n",
       "    </tr>\n",
       "  </thead>\n",
       "  <tbody>\n",
       "    <tr>\n",
       "      <th>0</th>\n",
       "      <td>0</td>\n",
       "      <td>0</td>\n",
       "      <td>0</td>\n",
       "    </tr>\n",
       "    <tr>\n",
       "      <th>1</th>\n",
       "      <td>0</td>\n",
       "      <td>1</td>\n",
       "      <td>1</td>\n",
       "    </tr>\n",
       "    <tr>\n",
       "      <th>2</th>\n",
       "      <td>1</td>\n",
       "      <td>0</td>\n",
       "      <td>1</td>\n",
       "    </tr>\n",
       "    <tr>\n",
       "      <th>3</th>\n",
       "      <td>1</td>\n",
       "      <td>1</td>\n",
       "      <td>0</td>\n",
       "    </tr>\n",
       "  </tbody>\n",
       "</table>\n",
       "</div>"
      ],
      "text/plain": [
       "   x1  x2  label\n",
       "0   0   0      0\n",
       "1   0   1      1\n",
       "2   1   0      1\n",
       "3   1   1      0"
      ]
     },
     "execution_count": 4,
     "metadata": {},
     "output_type": "execute_result"
    }
   ],
   "source": [
    "df"
   ]
  },
  {
   "cell_type": "code",
   "execution_count": 29,
   "id": "fa3738bc",
   "metadata": {},
   "outputs": [
    {
     "data": {
      "text/plain": [
       "(2, 1)"
      ]
     },
     "execution_count": 29,
     "metadata": {},
     "output_type": "execute_result"
    }
   ],
   "source": [
    "W = np.random.rand(2,1)\n",
    "W.shape"
   ]
  },
  {
   "cell_type": "code",
   "execution_count": 15,
   "id": "b94eb805",
   "metadata": {},
   "outputs": [
    {
     "data": {
      "text/plain": [
       "0.04860826177879396"
      ]
     },
     "execution_count": 15,
     "metadata": {},
     "output_type": "execute_result"
    }
   ],
   "source": [
    "b = np.random.rand()\n",
    "b"
   ]
  },
  {
   "cell_type": "code",
   "execution_count": 16,
   "id": "9e11673d",
   "metadata": {},
   "outputs": [
    {
     "data": {
      "text/plain": [
       "(array([[0, 0, 1, 1],\n",
       "        [0, 1, 0, 1]]),\n",
       " array([0, 1, 1, 0]))"
      ]
     },
     "execution_count": 16,
     "metadata": {},
     "output_type": "execute_result"
    }
   ],
   "source": [
    "x = np.array(df[['x1','x2']])\n",
    "y = np.array(df['label'])\n",
    "x=x.T\n",
    "x, y"
   ]
  },
  {
   "cell_type": "code",
   "execution_count": 17,
   "id": "cf7e8994",
   "metadata": {},
   "outputs": [],
   "source": [
    "def sigmoid(z):\n",
    "    return 1/(1 + np.exp(-z))\n",
    "\n",
    "from sklearn.metrics import log_loss"
   ]
  },
  {
   "cell_type": "code",
   "execution_count": 63,
   "id": "4cb5c676",
   "metadata": {},
   "outputs": [
    {
     "name": "stdout",
     "output_type": "stream",
     "text": [
      "25.90428219554056\n",
      "17.26958809681289\n",
      "25.90428219554056\n",
      "17.26958809681289\n",
      "25.90428219554056\n",
      "17.26958809681289\n",
      "25.90428219554056\n",
      "17.26958809681289\n",
      "25.90428219554056\n",
      "17.26958809681289\n",
      "25.90428219554056\n",
      "17.26958809681289\n",
      "25.90428219554056\n",
      "17.26958809681289\n",
      "25.90428219554056\n",
      "17.26958809681289\n",
      "25.90428219554056\n",
      "17.26958809681289\n",
      "25.90428219554056\n",
      "17.26958809681289\n",
      "25.90428219554056\n",
      "17.26958809681289\n",
      "25.90428219554056\n",
      "17.26958809681289\n",
      "25.90428219554056\n",
      "17.26958809681289\n",
      "25.90428219554056\n",
      "17.26958809681289\n",
      "25.90428219554056\n",
      "17.26958809681289\n",
      "25.90428219554056\n",
      "17.26958809681289\n",
      "25.90428219554056\n",
      "17.26958809681289\n",
      "25.90428219554056\n",
      "17.26958809681289\n",
      "25.90428219554056\n",
      "8.63489399808522\n",
      "25.90428219554056\n",
      "25.90428219554056\n",
      "8.63489399808522\n",
      "25.90428219554056\n",
      "25.90428219554056\n",
      "8.63489399808522\n",
      "25.90428219554056\n",
      "25.90428219554056\n",
      "8.63489399808522\n",
      "25.90428219554056\n",
      "25.90428219554056\n",
      "8.63489399808522\n"
     ]
    }
   ],
   "source": [
    "for i in range (50):\n",
    "    Z =np.dot(W.T,x)+b\n",
    "    A = sigmoid(Z)\n",
    "    A = np.where(A < 0.5, 0, 1)\n",
    "    A = A.squeeze()\n",
    "    \n",
    "    \n",
    "    J = log_loss(y,A)\n",
    "    print(J)\n",
    "    \n",
    "    dz = A - y\n",
    "    dz = np.expand_dims(dz, axis = 0)\n",
    "    dw =  np.dot(x,dz.T)/x.shape[0]\n",
    "    db = np.sum(dz,axis =1)/x.shape[0]\n",
    "    alpha = 0.000001\n",
    "    W = W - alpha * dw\n",
    "    b = b - alpha *db"
   ]
  },
  {
   "cell_type": "code",
   "execution_count": 64,
   "id": "32974d07",
   "metadata": {},
   "outputs": [
    {
     "data": {
      "text/plain": [
       "array([[1, 1],\n",
       "       [0, 2]], dtype=int64)"
      ]
     },
     "execution_count": 64,
     "metadata": {},
     "output_type": "execute_result"
    }
   ],
   "source": [
    "from sklearn.metrics import confusion_matrix\n",
    "confusion_matrix(y, A)"
   ]
  },
  {
   "cell_type": "code",
   "execution_count": 65,
   "id": "9eb09b08",
   "metadata": {},
   "outputs": [
    {
     "data": {
      "text/plain": [
       "array([0, 1, 1, 1])"
      ]
     },
     "execution_count": 65,
     "metadata": {},
     "output_type": "execute_result"
    }
   ],
   "source": [
    "A  #Predictions"
   ]
  },
  {
   "cell_type": "code",
   "execution_count": 62,
   "id": "09fd0787",
   "metadata": {},
   "outputs": [
    {
     "data": {
      "text/plain": [
       "array([0, 1, 1, 0])"
      ]
     },
     "execution_count": 62,
     "metadata": {},
     "output_type": "execute_result"
    }
   ],
   "source": [
    "y  #actual label"
   ]
  },
  {
   "cell_type": "code",
   "execution_count": null,
   "id": "6f84bdc0",
   "metadata": {},
   "outputs": [],
   "source": []
  }
 ],
 "metadata": {
  "kernelspec": {
   "display_name": "Python 3 (ipykernel)",
   "language": "python",
   "name": "python3"
  },
  "language_info": {
   "codemirror_mode": {
    "name": "ipython",
    "version": 3
   },
   "file_extension": ".py",
   "mimetype": "text/x-python",
   "name": "python",
   "nbconvert_exporter": "python",
   "pygments_lexer": "ipython3",
   "version": "3.9.6"
  }
 },
 "nbformat": 4,
 "nbformat_minor": 5
}
