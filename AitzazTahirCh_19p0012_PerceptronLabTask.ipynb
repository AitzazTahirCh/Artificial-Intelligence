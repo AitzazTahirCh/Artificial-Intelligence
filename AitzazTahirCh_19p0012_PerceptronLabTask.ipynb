{
 "cells": [
  {
   "cell_type": "code",
   "execution_count": 1,
   "id": "b00904a7",
   "metadata": {},
   "outputs": [],
   "source": [
    "import pandas as pd\n",
    "import numpy as np\n",
    "from sklearn.model_selection import train_test_split\n",
    "from sklearn.metrics import log_loss"
   ]
  },
  {
   "cell_type": "code",
   "execution_count": 2,
   "id": "8a3e964b",
   "metadata": {},
   "outputs": [],
   "source": [
    "columns = [i for i in range(1,61)]\n",
    "columns.append(\"label\")\n",
    "df = pd.read_csv(\"sonar.all-data\" , delimiter = \",\" , names = columns , header = None)"
   ]
  },
  {
   "cell_type": "code",
   "execution_count": 3,
   "id": "494017aa",
   "metadata": {},
   "outputs": [],
   "source": [
    "df[\"label\"].replace({'R': 0, 'M': 1},inplace = True)\n",
    "X_train, X_test, y_train, y_test = train_test_split(df[columns[:-1]], df[columns[-1]], test_size=0.33, random_state=42)"
   ]
  },
  {
   "cell_type": "code",
   "execution_count": 4,
   "id": "6697d893",
   "metadata": {},
   "outputs": [],
   "source": [
    "X_train = np.array(X_train)\n",
    "X_test = np.array(X_test)\n",
    "y_train = np.array(y_train)\n",
    "y_test = np.array(y_test)"
   ]
  },
  {
   "cell_type": "code",
   "execution_count": 5,
   "id": "03a27d4b",
   "metadata": {},
   "outputs": [
    {
     "data": {
      "text/plain": [
       "array([[0.60992644],\n",
       "       [0.88224955],\n",
       "       [0.5546179 ],\n",
       "       [0.98048968],\n",
       "       [0.21755993],\n",
       "       [0.68835372],\n",
       "       [0.60099344],\n",
       "       [0.42123689],\n",
       "       [0.56260259],\n",
       "       [0.6378947 ],\n",
       "       [0.17299694],\n",
       "       [0.73858374],\n",
       "       [0.87503994],\n",
       "       [0.21980988],\n",
       "       [0.73101432],\n",
       "       [0.29781257],\n",
       "       [0.92964446],\n",
       "       [0.80125571],\n",
       "       [0.45093351],\n",
       "       [0.0782724 ],\n",
       "       [0.5426043 ],\n",
       "       [0.52052588],\n",
       "       [0.07824409],\n",
       "       [0.38471106],\n",
       "       [0.82904786],\n",
       "       [0.80877738],\n",
       "       [0.85402786],\n",
       "       [0.1836024 ],\n",
       "       [0.6542795 ],\n",
       "       [0.82084231],\n",
       "       [0.39075746],\n",
       "       [0.31319599],\n",
       "       [0.73496509],\n",
       "       [0.29281252],\n",
       "       [0.08483944],\n",
       "       [0.8894216 ],\n",
       "       [0.77968414],\n",
       "       [0.48425951],\n",
       "       [0.99104314],\n",
       "       [0.42177064],\n",
       "       [0.98048847],\n",
       "       [0.26687701],\n",
       "       [0.49526556],\n",
       "       [0.94584089],\n",
       "       [0.61393645],\n",
       "       [0.64885968],\n",
       "       [0.28430277],\n",
       "       [0.52263903],\n",
       "       [0.60978493],\n",
       "       [0.13942992],\n",
       "       [0.53526825],\n",
       "       [0.63219102],\n",
       "       [0.23022649],\n",
       "       [0.22202864],\n",
       "       [0.79855504],\n",
       "       [0.47525505],\n",
       "       [0.1283727 ],\n",
       "       [0.70720766],\n",
       "       [0.95649816],\n",
       "       [0.56113355]])"
      ]
     },
     "execution_count": 5,
     "metadata": {},
     "output_type": "execute_result"
    }
   ],
   "source": [
    "W = np.random.rand(60,1)\n",
    "W"
   ]
  },
  {
   "cell_type": "code",
   "execution_count": 19,
   "id": "2184f7e9",
   "metadata": {},
   "outputs": [
    {
     "data": {
      "text/plain": [
       "0.9133684009607947"
      ]
     },
     "execution_count": 19,
     "metadata": {},
     "output_type": "execute_result"
    }
   ],
   "source": [
    "b = np.random.rand()\n",
    "b"
   ]
  },
  {
   "cell_type": "code",
   "execution_count": 7,
   "id": "7b07a459",
   "metadata": {},
   "outputs": [
    {
     "data": {
      "text/plain": [
       "(60, 139)"
      ]
     },
     "execution_count": 7,
     "metadata": {},
     "output_type": "execute_result"
    }
   ],
   "source": [
    "X_train = X_train.T\n",
    "X_train.shape"
   ]
  },
  {
   "cell_type": "code",
   "execution_count": 8,
   "id": "1fbb8e5f",
   "metadata": {},
   "outputs": [],
   "source": [
    "def sigmoid(z):\n",
    "    return 1/(1 + np.exp(-z))"
   ]
  },
  {
   "cell_type": "code",
   "execution_count": 9,
   "id": "bfd40fa9",
   "metadata": {},
   "outputs": [],
   "source": [
    "y_train = np.expand_dims(y_train,axis =0)"
   ]
  },
  {
   "cell_type": "code",
   "execution_count": 10,
   "id": "1914ce45",
   "metadata": {},
   "outputs": [],
   "source": [
    "numOfTrainSamples = X_train.shape[1]\n",
    "numOfFeatures = X_train.shape[0]"
   ]
  },
  {
   "cell_type": "code",
   "execution_count": 20,
   "id": "d9992b7f",
   "metadata": {},
   "outputs": [
    {
     "name": "stdout",
     "output_type": "stream",
     "text": [
      "355.3300148832575\n",
      "355.3300148832575\n",
      "355.3300148832575\n",
      "355.3300148832575\n",
      "355.3300148832575\n",
      "355.3300148832575\n",
      "355.3300148832575\n",
      "355.3300148832575\n",
      "355.3300148832575\n",
      "355.3300148832575\n",
      "355.3300148832575\n",
      "355.3300148832575\n",
      "355.3300148832575\n",
      "355.3300148832575\n",
      "355.3300148832575\n",
      "355.3300148832575\n",
      "355.3300148832575\n",
      "355.3300148832575\n",
      "355.3300148832575\n",
      "355.3300148832575\n",
      "355.3300148832575\n",
      "355.3300148832575\n",
      "355.3300148832575\n",
      "355.3300148832575\n",
      "355.3300148832575\n",
      "355.3300148832575\n",
      "355.3300148832575\n",
      "355.3300148832575\n",
      "355.3300148832575\n",
      "355.3300148832575\n",
      "355.3300148832575\n",
      "355.3300148832575\n",
      "355.3300148832575\n",
      "355.3300148832575\n",
      "355.3300148832575\n",
      "355.3300148832575\n",
      "355.3300148832575\n",
      "355.3300148832575\n",
      "355.3300148832575\n",
      "355.3300148832575\n",
      "355.3300148832575\n",
      "355.3300148832575\n",
      "355.3300148832575\n",
      "355.3300148832575\n",
      "355.3300148832575\n",
      "355.3300148832575\n",
      "355.3300148832575\n",
      "355.3300148832575\n",
      "355.3300148832575\n",
      "355.3300148832575\n",
      "355.3300148832575\n",
      "355.3300148832575\n",
      "355.3300148832575\n",
      "355.3300148832575\n",
      "355.3300148832575\n",
      "355.3300148832575\n",
      "355.3300148832575\n",
      "355.3300148832575\n",
      "355.3300148832575\n",
      "355.3300148832575\n",
      "355.3300148832575\n",
      "355.3300148832575\n",
      "355.3300148832575\n",
      "355.3300148832575\n",
      "355.3300148832575\n",
      "355.3300148832575\n",
      "355.3300148832575\n",
      "354.7663055184021\n",
      "354.7663055184021\n",
      "354.7663055184021\n",
      "354.7663055184021\n",
      "354.7663055184021\n",
      "354.7663055184021\n",
      "354.7663055184021\n",
      "354.7663055184021\n",
      "354.7663055184021\n",
      "354.7663055184021\n",
      "354.7663055184021\n",
      "354.7663055184021\n",
      "354.7663055184021\n",
      "354.7663055184021\n",
      "354.7663055184021\n",
      "354.7663055184021\n",
      "354.7663055184021\n",
      "354.7663055184021\n",
      "354.7663055184021\n",
      "354.7663055184021\n",
      "354.7663055184021\n",
      "354.7663055184021\n",
      "354.7663055184021\n",
      "354.7663055184021\n",
      "354.7663055184021\n",
      "354.7663055184021\n",
      "354.7663055184021\n",
      "354.19820926613215\n",
      "354.19820926613215\n",
      "354.19820926613215\n",
      "354.19820926613215\n",
      "354.19820926613215\n",
      "354.19820926613215\n"
     ]
    }
   ],
   "source": [
    "alpha = 0.001\n",
    "for i in range(100):\n",
    "    #forward\n",
    "    Z = np.dot(W.T,X_train,) + b\n",
    "    A = sigmoid(Z)\n",
    "    A = np.where(A < 0.5, 0 ,1)\n",
    "\n",
    "\n",
    "    #backward\n",
    "    J = log_loss(y_train, A)\n",
    "    print(J)\n",
    "    \n",
    "    dz = A - y_train\n",
    "    dw = np.dot(X_train,dz.T)/numOfTrainSamples\n",
    "    db = np.sum(dz,axis=1)/numOfTrainSamples\n",
    "    W = W - alpha * dw\n",
    "    b = b - alpha * db "
   ]
  },
  {
   "cell_type": "code",
   "execution_count": 21,
   "id": "84e19d72",
   "metadata": {},
   "outputs": [
    {
     "name": "stdout",
     "output_type": "stream",
     "text": [
      "0.60431654676259\n"
     ]
    }
   ],
   "source": [
    "#acuracy\n",
    "from sklearn.metrics import accuracy_score\n",
    "\n",
    "for i in range(len(A)):\n",
    "    print(accuracy_score(y_train[i], A[i]))"
   ]
  },
  {
   "cell_type": "code",
   "execution_count": 22,
   "id": "c315fad8",
   "metadata": {},
   "outputs": [
    {
     "data": {
      "text/plain": [
       "array([[0, 0],\n",
       "       [1, 0]], dtype=int64)"
      ]
     },
     "execution_count": 22,
     "metadata": {},
     "output_type": "execute_result"
    }
   ],
   "source": [
    "#confusion matrix\n",
    "from sklearn.metrics import confusion_matrix\n",
    "confusion_matrix(y_train.argmax(axis=1), A.argmax(axis=1))"
   ]
  },
  {
   "cell_type": "code",
   "execution_count": null,
   "id": "cd092821",
   "metadata": {},
   "outputs": [],
   "source": []
  }
 ],
 "metadata": {
  "kernelspec": {
   "display_name": "Python 3 (ipykernel)",
   "language": "python",
   "name": "python3"
  },
  "language_info": {
   "codemirror_mode": {
    "name": "ipython",
    "version": 3
   },
   "file_extension": ".py",
   "mimetype": "text/x-python",
   "name": "python",
   "nbconvert_exporter": "python",
   "pygments_lexer": "ipython3",
   "version": "3.9.6"
  }
 },
 "nbformat": 4,
 "nbformat_minor": 5
}
