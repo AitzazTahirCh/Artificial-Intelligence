{
 "cells": [
  {
   "cell_type": "code",
   "execution_count": 1,
   "id": "e1575541",
   "metadata": {},
   "outputs": [],
   "source": [
    "import numpy as np\n",
    "import matplotlib.pyplot as plt"
   ]
  },
  {
   "cell_type": "code",
   "execution_count": 2,
   "id": "9b478811",
   "metadata": {},
   "outputs": [],
   "source": [
    "losses = []"
   ]
  },
  {
   "cell_type": "code",
   "execution_count": 3,
   "id": "6eacf6b7",
   "metadata": {},
   "outputs": [],
   "source": [
    "#sigmoid activation function for hidden layer and output\n",
    "def sigmoid(z):\n",
    "    z= 1/(1+np.exp(-z))\n",
    "    return z"
   ]
  },
  {
   "cell_type": "code",
   "execution_count": 4,
   "id": "aff214c6",
   "metadata": {},
   "outputs": [],
   "source": [
    "#Gradient DESCENT \n",
    "# Forward propagation\n",
    "def forward_prop(w1,w2,x):\n",
    "    z1 = np.dot(w1,x)\n",
    "    a1 = sigmoid(z1)    \n",
    "    z2 = np.dot(w2,a1)\n",
    "    a2 = sigmoid(z2)\n",
    "    return z1,a1,z2,a2\n",
    "\n",
    "# Backward propagation\n",
    "def back_prop(m,w1,w2,z1,a1,z2,a2,y):\n",
    "    \n",
    "    dz2 = a2-y\n",
    "    dw2 = np.dot(dz2,a1.T)/m\n",
    "    dz1 = np.dot(w2.T,dz2) * a1*(1-a1)\n",
    "    dw1 = np.dot(dz1,x.T)/m\n",
    "    dw1 = np.reshape(dw1,w1.shape)\n",
    "    dw2 = np.reshape(dw2,w2.shape)    \n",
    "    \n",
    "    return dz2,dw2,dz1,dw1"
   ]
  },
  {
   "cell_type": "code",
   "execution_count": 13,
   "id": "44fc3d25",
   "metadata": {},
   "outputs": [],
   "source": [
    "#Prediction maker\n",
    "def predict(w1,w2,input):\n",
    "    z1,a1,z2,a2 = forward_prop(w1,w2,test)\n",
    "    a2 = np.squeeze(a2)\n",
    "    \n",
    "    if a2>=0.5:\n",
    "        print(\"|\", [i[0] for i in input], \"|    1|\")\n",
    "    else:\n",
    "        print(\"|\", [i[0] for i in input], \"|    0|\")\n",
    "    "
   ]
  },
  {
   "cell_type": "code",
   "execution_count": 6,
   "id": "d7101d58",
   "metadata": {},
   "outputs": [],
   "source": [
    "#input x1,x2 for XOR\n",
    "x=np.array([[0,0,1,1],[0,1,0,1]]) \n",
    "#XOR outputs\n",
    "y=np.array([[0,1,1,0]])  "
   ]
  },
  {
   "cell_type": "code",
   "execution_count": 7,
   "id": "20b5a451",
   "metadata": {},
   "outputs": [],
   "source": [
    "n_x = 2 # Number of inputs\n",
    "n_y = 1 # Number of neurons in output layer\n",
    "n_h = 2 # Number of neurons in hidden layer\n",
    "m = x.shape[1] # Total training examples\n",
    "lr = 0.1  # Learning rate\n",
    "np.random.seed(2)  # Random seed for consistent results"
   ]
  },
  {
   "cell_type": "code",
   "execution_count": 8,
   "id": "5d26580b",
   "metadata": {},
   "outputs": [],
   "source": [
    "# Define weight matrices for neural network\n",
    "w1 = np.random.rand(n_h,n_x)   # Weight matrix for hidden layer\n",
    "w2 = np.random.rand(n_y,n_h)   # Weight matrix for output layer"
   ]
  },
  {
   "cell_type": "code",
   "execution_count": 9,
   "id": "5440e72e",
   "metadata": {},
   "outputs": [],
   "source": [
    "iterations = 10000\n",
    "for i in range(iterations):\n",
    "    z1,a1,z2,a2 = forward_prop(w1,w2,x)\n",
    "    loss = -(1/m)*np.sum(y*np.log(a2)+(1-y)*np.log(1-a2))\n",
    "    losses.append(loss)\n",
    "    da2,dw2,dz1,dw1 = back_prop(m,w1,w2,z1,a1,z2,a2,y)\n",
    "    w2 = w2-lr*dw2\n",
    "    w1 = w1-lr*dw1"
   ]
  },
  {
   "cell_type": "code",
   "execution_count": 15,
   "id": "ba66d1a7",
   "metadata": {},
   "outputs": [
    {
     "name": "stdout",
     "output_type": "stream",
     "text": [
      "|X1  X2  |    Z|\n",
      "|--------|-----|\n",
      "| [0, 0] |    0|\n",
      "|--------|-----|\n",
      "| [0, 1] |    1|\n",
      "|--------|-----|\n",
      "| [1, 0] |    1|\n",
      "|--------|-----|\n",
      "| [1, 1] |    0|\n"
     ]
    }
   ],
   "source": [
    "print(\"|X1  X2  |    Z|\")\n",
    "print(\"|--------|-----|\")\n",
    "test = np.array([[0],[0]])\n",
    "predict(w1,w2,test)\n",
    "print(\"|--------|-----|\")\n",
    "test = np.array([[0],[1]])\n",
    "predict(w1,w2,test)\n",
    "print(\"|--------|-----|\")\n",
    "test = np.array([[1],[0]])\n",
    "predict(w1,w2,test)\n",
    "print(\"|--------|-----|\")\n",
    "test = np.array([[1],[1]])\n",
    "predict(w1,w2,test)"
   ]
  },
  {
   "cell_type": "code",
   "execution_count": null,
   "id": "dd6d6337",
   "metadata": {},
   "outputs": [],
   "source": []
  }
 ],
 "metadata": {
  "kernelspec": {
   "display_name": "Python 3 (ipykernel)",
   "language": "python",
   "name": "python3"
  },
  "language_info": {
   "codemirror_mode": {
    "name": "ipython",
    "version": 3
   },
   "file_extension": ".py",
   "mimetype": "text/x-python",
   "name": "python",
   "nbconvert_exporter": "python",
   "pygments_lexer": "ipython3",
   "version": "3.9.6"
  }
 },
 "nbformat": 4,
 "nbformat_minor": 5
}
